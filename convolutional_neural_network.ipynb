{
 "cells": [
  {
   "cell_type": "markdown",
   "source": [
    "# Convolutional neural network\r\n",
    "\r\n",
    "In the previous unit we have learned how to define a multi-playered neural network using class definition, but those networks were generic, and not specialized for computer vision tasks. In this unit we will learn about **Convolutional Neural Network (CNNs)**, which are specifically designed for computer vision. \r\n",
    "\r\n",
    "Computer vision is different from generic classification, because when we are trying to find a certain object in the picture, we are scanning the image looking for some specific **patterns** and their combinations. For example, when looking for a cat, we first may look for horizontal lines, which can form whiskers, and certain combination of whiskers can tell us that it is actually a picture of a cat. Relative position and presence of certain patterns is important, and not their exact position on the image. \r\n",
    "\r\n",
    "TO extract patterns, we will use the notion of **convolutional filters**. But first, let us load all dependencies and functions that we have defined in the previous units."
   ],
   "metadata": {}
  },
  {
   "cell_type": "code",
   "execution_count": 1,
   "source": [
    "import torch\r\n",
    "from torch import nn \r\n",
    "from torch.utils.data import DataLoader\r\n",
    "import numpy as np \r\n",
    "from torchvision import datasets\r\n",
    "from torchvision.transforms import ToTensor\r\n",
    "import matplotlib.pyplot as plt\r\n",
    "from torchinfo import summary\r\n",
    "import torchvision\r\n"
   ],
   "outputs": [],
   "metadata": {}
  },
  {
   "cell_type": "markdown",
   "source": [
    "## Convolutional filters\r\n",
    "\r\n",
    "Convolutional filters are small windows that run over each pixel of the image and compute weighted average of the neighboring pixels.\r\n",
    "\r\n",
    "The are defined by matrices of weight coefficients. Let's see the examples of applying two different convolutional filters over our MNIST handwritten digits:\r\n"
   ],
   "metadata": {}
  },
  {
   "cell_type": "markdown",
   "source": [
    "First filter is called a **vertical edge filter**, and it is defined by the following matrix:\r\n",
    "$$\r\n",
    "\\left(\r\n",
    "    \\begin{matrix}\r\n",
    "     -1 & 0 & 1 \\cr\r\n",
    "     -1 & 0 & 1 \\cr\r\n",
    "     -1 & 0 & 1 \\cr\r\n",
    "    \\end{matrix}\r\n",
    "\\right)\r\n",
    "$$\r\n",
    "When this filter goes over relatively uniform pixel field, all values add up to 0. However, when it encounters a vertical edge in the image, high spike value is generated. That's why in the images above you can see vertical edges represented by high and low values, while horizontal edges are averaged out.\r\n",
    "\r\n",
    "An opposite thing happens when we apply horizontal edge filter - horizontal lines are amplified, and vertical are averaged out.\r\n",
    "\r\n",
    "In classical computer vision, multiple filters were applied to the image to generate features, which then were used by machine learning algorithm to build a classifier. However, in deep learning we construct networks that **learn** best convolutional filters to solve classification problem.\r\n",
    "\r\n",
    "To do that, we introduce **convolutional layers**."
   ],
   "metadata": {}
  },
  {
   "cell_type": "markdown",
   "source": [
    "## Convolutional layers\r\n",
    "\r\n",
    "Convolutional layers are defined using **nn.Conv2d** construction. We need to specify the following:\r\n",
    "\r\n",
    "* **in_channels** - number of input channels. In our case we are dealing with a grayscale image, thus number of input channels is 1.\r\n",
    "* **out_channels** - number of filters to use. We will use 9 different filters, which will give the network plenty of opportunities to explore which filters work best for our scenario. \r\n",
    "* **kernel_size** is the size of the sliding window. Usually 3x3 or 5x5 are used. \r\n",
    "Simplest CNN will containe one convolutional layer. Given the input size 28x28, after applying nine 5x5 filters we will end up with a tensor of 9x24x24(Because there are only 24 position where a sliding interval of length 5 can fit into 28 pixels).\r\n",
    "\r\n",
    "After convolution, we flatten 9x24x24 tensor into one vector of size 5184(9x24x24) and then add linear layer, to produce 10 classes. We also use **ReLU** activation function in between layers.\r\n",
    " \r\n"
   ],
   "metadata": {}
  },
  {
   "cell_type": "code",
   "execution_count": 2,
   "source": [
    "class OneConv(nn.Module):\r\n",
    "    def __init__(self):\r\n",
    "        super(OneConv, self).__init__()\r\n",
    "        self.conv = nn.Conv2d(\r\n",
    "            in_channels=1, out_channels=9, kernel_size=(5, 5))\r\n",
    "        self.flatten = nn.Flatten()\r\n",
    "        self.linear_relu_stack = nn.Sequential(\r\n",
    "            nn.Linear(9*24*24, 10),\r\n",
    "            nn.LogSoftmax(dim=1)\r\n",
    "        )\r\n",
    "\r\n",
    "    def forward(self, X):\r\n",
    "        X = nn.functional.relu(self.conv(X))\r\n",
    "        X = self.flatten(X)\r\n",
    "        logits = self.linear_relu_stack(X)\r\n",
    "        return logits\r\n",
    "\r\n",
    "net  = OneConv()\r\n",
    "summary(net, input_size=(1,1,28,28))\r\n"
   ],
   "outputs": [
    {
     "output_type": "execute_result",
     "data": {
      "text/plain": [
       "==========================================================================================\n",
       "Layer (type:depth-idx)                   Output Shape              Param #\n",
       "==========================================================================================\n",
       "OneConv                                  --                        --\n",
       "├─Conv2d: 1-1                            [1, 9, 24, 24]            234\n",
       "├─Flatten: 1-2                           [1, 5184]                 --\n",
       "├─Sequential: 1-3                        [1, 10]                   --\n",
       "│    └─Linear: 2-1                       [1, 10]                   51,850\n",
       "│    └─LogSoftmax: 2-2                   [1, 10]                   --\n",
       "==========================================================================================\n",
       "Total params: 52,084\n",
       "Trainable params: 52,084\n",
       "Non-trainable params: 0\n",
       "Total mult-adds (M): 0.19\n",
       "==========================================================================================\n",
       "Input size (MB): 0.00\n",
       "Forward/backward pass size (MB): 0.04\n",
       "Params size (MB): 0.21\n",
       "Estimated Total Size (MB): 0.25\n",
       "=========================================================================================="
      ]
     },
     "metadata": {},
     "execution_count": 2
    }
   ],
   "metadata": {}
  },
  {
   "cell_type": "markdown",
   "source": [
    "We can see that this network contains around 50K trainable parameters, compared to around 80k in fully-connected multi-layered networks. This allows us to achieve good results even on smaller datasets, because convolutional networks generalize much better."
   ],
   "metadata": {}
  },
  {
   "cell_type": "code",
   "execution_count": 3,
   "source": [
    "training_data = datasets.MNIST(\r\n",
    "    root='data',\r\n",
    "    train=True,\r\n",
    "    download=True,\r\n",
    "    transform=ToTensor()\r\n",
    ")\r\n",
    "\r\n",
    "test_data = datasets.MNIST(\r\n",
    "      root='data',\r\n",
    "    train=False,\r\n",
    "    download=True,\r\n",
    "    transform=ToTensor()\r\n",
    ")\r\n",
    "\r\n",
    "training_dataloader = DataLoader(training_data, batch_size=64)\r\n",
    "test_dataloader = DataLoader(test_data, batch_size=64)\r\n",
    "\r\n",
    "device = 'cuda' if torch.cuda.is_available() else 'cpu'\r\n",
    "\r\n",
    "print(f'We use {device}')\r\n",
    "\r\n",
    "net.to(device)\r\n",
    "\r\n",
    "def training_epoch(model, dataloader, loss_fn, optimizer):\r\n",
    "    total_loss, acc = 0,0\r\n",
    "    data_size = len(dataloader.dataset)\r\n",
    "    model.train()\r\n",
    "    for (X,y) in dataloader:\r\n",
    "        (X,y) = (X.to(device), y.to(device))\r\n",
    "        out = model(X)\r\n",
    "        loss = loss_fn(out, y)\r\n",
    "        optimizer.zero_grad()\r\n",
    "        loss.backward()\r\n",
    "        optimizer.step()\r\n",
    "        _, y_pred = torch.max(out, dim=1)\r\n",
    "        total_loss += loss_fn(out, y).item()\r\n",
    "        acc += (y_pred == y).type(torch.float).sum().item()\r\n",
    "    return total_loss/(data_size), acc/(data_size)\r\n",
    "\r\n",
    "def valid_epoch(model, dataloader, loss_fn):\r\n",
    "    \"\"\"[This function allows to evaluate]\r\n",
    "\r\n",
    "    Args:\r\n",
    "        model ([type]): [description]\r\n",
    "        dataloader ([type]): [description]\r\n",
    "        loss_fn ([type]): [description]\r\n",
    "\r\n",
    "    Returns:\r\n",
    "        [type]: [description]\r\n",
    "    \"\"\"\r\n",
    "    data_size = len(dataloader.dataset)\r\n",
    "    loss, acc = 0,0\r\n",
    "    model.eval()\r\n",
    "    for X,y in dataloader:\r\n",
    "        X,y = X.to(device), y.to(device)\r\n",
    "        out = model(X)\r\n",
    "        _, y_pred = torch.max(out, dim=1)\r\n",
    "        loss += loss_fn(out, y).item()\r\n",
    "        acc += (y_pred == y).type(torch.float).sum().item()\r\n",
    "        \r\n",
    "    return loss/(data_size), acc/(data_size)\r\n",
    "optimizer = torch.optim.Adam(net.parameters(), lr=0.01)\r\n",
    "loss_fn = nn.CrossEntropyLoss()\r\n",
    "\r\n",
    "train_hist = []\r\n",
    "test_hist = []\r\n",
    "\r\n",
    "# Try to turn our network for 10 times \r\n",
    "for t in range(10):\r\n",
    "    train_hist.append(training_epoch(net, training_dataloader, loss_fn, optimizer))\r\n",
    "    with torch.no_grad():\r\n",
    "        test_hist.append(valid_epoch(net, test_dataloader, loss_fn))\r\n",
    "train_loss = [i[0] for i in train_hist]\r\n",
    "train_acc = [i[1] for i in train_hist]\r\n",
    "test_loss = [i[0] for i in test_hist]\r\n",
    "test_acc = [i[1] for i in test_hist]\r\n",
    "\r\n",
    "# Plot accuracy over 10 times\r\n",
    "plt.figure()\r\n",
    "plt.plot([x+1 for x in range(10)], train_acc)\r\n",
    "plt.plot([x+1 for x in range(10)], test_acc)\r\n",
    "plt.legend(['train_acc', 'test_acc'])\r\n",
    "plt.show()\r\n",
    "\r\n"
   ],
   "outputs": [
    {
     "output_type": "stream",
     "name": "stderr",
     "text": [
      "C:\\Users\\duong\\AppData\\Local\\Programs\\Python\\Python38\\lib\\site-packages\\torchvision\\datasets\\mnist.py:498: UserWarning: The given NumPy array is not writeable, and PyTorch does not support non-writeable tensors. This means you can write to the underlying (supposedly non-writeable) NumPy array using the tensor. You may want to copy the array to protect its data or make it writeable before converting it to a tensor. This type of warning will be suppressed for the rest of this program. (Triggered internally at  ..\\torch\\csrc\\utils\\tensor_numpy.cpp:180.)\n",
      "  return torch.from_numpy(parsed.astype(m[2], copy=False)).view(*s)\n"
     ]
    },
    {
     "output_type": "stream",
     "name": "stdout",
     "text": [
      "We use cuda\n"
     ]
    },
    {
     "output_type": "display_data",
     "data": {
      "text/plain": [
       "<Figure size 432x288 with 1 Axes>"
      ],
      "image/png": "[encoded data removed]"
     },
     "metadata": {
      "needs_background": "light"
     }
    }
   ],
   "metadata": {}
  },
  {
   "cell_type": "code",
   "execution_count": 4,
   "source": [
    "k = torch.randint(0, len(training_data),())\r\n",
    "\r\n",
    "X = training_data[k][0].to(device)\r\n",
    "y = torch.tensor(training_data[k][1]).to(device)\r\n",
    "\r\n",
    "def predict(X, model):\r\n",
    "    X = torch.reshape(X, (1,1,28,28))\r\n",
    "    out = model.to(device)(X)\r\n",
    "    _,y_pred = torch.max(out, 1)\r\n",
    "    return y_pred.item()\r\n",
    "\r\n",
    "def show_img(X, model):\r\n",
    "    plt.figure()\r\n",
    "    plt.imshow(X.to('cpu').view(28,28))\r\n",
    "    plt.title(predict(X, model))\r\n",
    "    plt.show()\r\n",
    "\r\n",
    "show_img(X, net)"
   ],
   "outputs": [
    {
     "output_type": "display_data",
     "data": {
      "text/plain": [
       "<Figure size 432x288 with 1 Axes>"
      ],
      "image/png": "[encoded data removed]"
     },
     "metadata": {
      "needs_background": "light"
     }
    }
   ],
   "metadata": {}
  },
  {
   "cell_type": "markdown",
   "source": [
    "## Multi-layered CNNs and pooling layers\r\n",
    "\r\n",
    "First convolutional layers looks for primitive patterns, such as horizontal or vertical line, but we can apply further convolutional layers on top of them to look for higher-level patterns, such as primitive shapes. Then more convolutional layers can combine those shapes into some parts of the pickture, up to the final object that we are trying to classify.\r\n",
    "\r\n",
    "When doing so, we may also apply one trick: reducing the spatial size of the image. One we have detected there is a horizontal stoke within sliding 3x3 window, it is not so important at which exact pixel it occurred. Thus we can \"scale down: the size of the image, which is done using one of the **pooling layers**:\r\n",
    "\r\n",
    "* **Average Pooling** takes a sliding window (for example, 2x2 pixels) and compute an average of values within the window\r\n",
    "* **Max Pooling** replace the window with the maximum value. The idea behind max pooling is to detect a presence of a certain pattern within the sliding window.\r\n",
    "  \r\n",
    "Thus, in a typical CNN there would be several convolutional layers, with pooling layers in between them to decrease dimensions of the image. We woould also increase the number of filters, beause as patterns become more advanced - there are more possible interesting combinations that we need to be looking for.\r\n",
    "\r\n",
    "![An image showing several convolutional layers with pooling layers.](https://docs.microsoft.com/en-us/learn/modules/intro-computer-vision-pytorch/images/cnn-pyramid.png)\r\n",
    "\r\n",
    "Because of decreasing spatial dimensions and increasing feature/filters dimensions, this architecture is also called **pyramid architecture**\r\n"
   ],
   "metadata": {}
  },
  {
   "cell_type": "code",
   "execution_count": 5,
   "source": [
    "class MultiLayerCNN(nn.Module):\r\n",
    "    def __init__(self):\r\n",
    "        super(MultiLayerCNN, self).__init__()\r\n",
    "        self.stack = nn.Sequential(\r\n",
    "            nn.ReLU(),\r\n",
    "            nn.Conv2d(1,10,5),\r\n",
    "            nn.ReLU(),\r\n",
    "            nn.MaxPool2d(2,2),\r\n",
    "            nn.Conv2d(10,20,5),\r\n",
    "            nn.ReLU(),\r\n",
    "            nn.MaxPool2d(2,2),\r\n",
    "            nn.Flatten(),\r\n",
    "            nn.Linear(320,10),\r\n",
    "            nn.LogSoftmax(dim=1)\r\n",
    "        )\r\n",
    "   \r\n",
    "    def forward(self, x):\r\n",
    "       logits = self.stack(x)\r\n",
    "       return logits\r\n",
    "\r\n",
    "new_net = MultiLayerCNN().to(device)\r\n",
    "summary(net,input_size=(1,1,28,28))"
   ],
   "outputs": [
    {
     "output_type": "execute_result",
     "data": {
      "text/plain": [
       "==========================================================================================\n",
       "Layer (type:depth-idx)                   Output Shape              Param #\n",
       "==========================================================================================\n",
       "OneConv                                  --                        --\n",
       "├─Conv2d: 1-1                            [1, 9, 24, 24]            234\n",
       "├─Flatten: 1-2                           [1, 5184]                 --\n",
       "├─Sequential: 1-3                        [1, 10]                   --\n",
       "│    └─Linear: 2-1                       [1, 10]                   51,850\n",
       "│    └─LogSoftmax: 2-2                   [1, 10]                   --\n",
       "==========================================================================================\n",
       "Total params: 52,084\n",
       "Trainable params: 52,084\n",
       "Non-trainable params: 0\n",
       "Total mult-adds (M): 0.19\n",
       "==========================================================================================\n",
       "Input size (MB): 0.00\n",
       "Forward/backward pass size (MB): 0.04\n",
       "Params size (MB): 0.21\n",
       "Estimated Total Size (MB): 0.25\n",
       "=========================================================================================="
      ]
     },
     "metadata": {},
     "execution_count": 5
    }
   ],
   "metadata": {}
  },
  {
   "cell_type": "markdown",
   "source": [
    "Note a few things about this definition:\r\n",
    "* Instead of using `Flatten` layer, we are flattening the tensor inside `forward` function using `view` function. Since flattening layer does not have trainable weights, it is not essential that we create a separate layer instance within our class\r\n",
    "* We use just one instance of pooling layer in our model, also because it does not contain any trainable parameters, and this one instance can be effectively reused\r\n",
    "* The number of trainable parameters (~8.5K) is dramatically smaller than in previous cases. This happens because convolutional layers in general have few parameters, and dimensionality of the image before applying final dense layer is significantly reduced. Small number of parameters have positive impact on our models, because it helps to prevent overfitting even on smaller dataset sizes."
   ],
   "metadata": {}
  },
  {
   "cell_type": "code",
   "execution_count": 6,
   "source": [
    "\r\n",
    "def training_epoch(model, dataloader, loss_fn, optimizer):\r\n",
    "    total_loss, acc = 0,0\r\n",
    "    data_size = len(dataloader.dataset)\r\n",
    "    model.train()\r\n",
    "    for (X,y) in dataloader:\r\n",
    "        (X,y) = (X.to(device), y.to(device))\r\n",
    "        out = model(X)\r\n",
    "        loss = loss_fn(out, y)\r\n",
    "        optimizer.zero_grad()\r\n",
    "        loss.backward()\r\n",
    "        optimizer.step()\r\n",
    "        _, y_pred = torch.max(out, dim=1)\r\n",
    "        total_loss += loss_fn(out, y).item()\r\n",
    "        acc += (y_pred == y).type(torch.float).sum().item()\r\n",
    "    return total_loss/(data_size), acc/(data_size)\r\n",
    "\r\n",
    "def valid_epoch(model, dataloader, loss_fn):\r\n",
    "    data_size = len(dataloader.dataset)\r\n",
    "    loss, acc = 0,0\r\n",
    "    model.eval()\r\n",
    "    for X,y in dataloader:\r\n",
    "        X,y = X.to(device), y.to(device)\r\n",
    "        out = model(X)\r\n",
    "        _, y_pred = torch.max(out, dim=1)\r\n",
    "        loss += loss_fn(out, y).item()\r\n",
    "        acc += (y_pred == y).type(torch.float).sum().item()\r\n",
    "        \r\n",
    "    return loss/(data_size), acc/(data_size)\r\n",
    "\r\n",
    "optimizer = torch.optim.Adam(new_net.parameters(), lr=0.01)\r\n",
    "loss_fn = nn.CrossEntropyLoss()\r\n",
    "\r\n",
    "train_hist = []\r\n",
    "test_hist = []\r\n",
    "for t in range(3):\r\n",
    "    train_hist.append(training_epoch(new_net, training_dataloader, loss_fn, optimizer))\r\n",
    "    with torch.no_grad():\r\n",
    "        test_hist.append(valid_epoch(new_net, test_dataloader, loss_fn))\r\n",
    "\r\n",
    "train_loss = [i[0] for i in train_hist]\r\n",
    "train_acc = [i[1] for i in train_hist]\r\n",
    "test_loss = [i[0] for i in test_hist]\r\n",
    "test_acc = [i[1] for i in test_hist]\r\n",
    "\r\n",
    "plt.figure()\r\n",
    "plt.plot([x+1 for x in range(3)], train_acc)\r\n",
    "plt.plot([x+1 for x in range(3)], test_acc)\r\n",
    "plt.legend(['train_acc', 'test_acc'])\r\n",
    "plt.show()\r\n"
   ],
   "outputs": [
    {
     "output_type": "stream",
     "name": "stderr",
     "text": [
      "C:\\Users\\duong\\AppData\\Local\\Programs\\Python\\Python38\\lib\\site-packages\\torch\\nn\\functional.py:718: UserWarning: Named tensors and all their associated APIs are an experimental feature and subject to change. Please do not use them for anything important until they are released as stable. (Triggered internally at  ..\\c10/core/TensorImpl.h:1156.)\n",
      "  return torch.max_pool2d(input, kernel_size, stride, padding, dilation, ceil_mode)\n"
     ]
    },
    {
     "output_type": "display_data",
     "data": {
      "text/plain": [
       "<Figure size 432x288 with 1 Axes>"
      ],
      "image/png": "[encoded data removed]"
     },
     "metadata": {
      "needs_background": "light"
     }
    }
   ],
   "metadata": {}
  }
 ],
 "metadata": {
  "orig_nbformat": 4,
  "language_info": {
   "name": "python",
   "version": "3.8.10",
   "mimetype": "text/x-python",
   "codemirror_mode": {
    "name": "ipython",
    "version": 3
   },
   "pygments_lexer": "ipython3",
   "nbconvert_exporter": "python",
   "file_extension": ".py"
  },
  "kernelspec": {
   "name": "python3",
   "display_name": "Python 3.8.10 64-bit"
  },
  "interpreter": {
   "hash": "b8476f40adbb31d316263111a5645b453d35d3e96db58041b0655f021c3b1406"
  }
 },
 "nbformat": 4,
 "nbformat_minor": 2
}