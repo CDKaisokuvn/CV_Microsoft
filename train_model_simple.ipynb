{
 "cells": [
  {
   "cell_type": "code",
   "execution_count": 1,
   "source": [
    "import torch\r\n",
    "from torch import nn\r\n",
    "from torch.utils.data import DataLoader\r\n",
    "from torchvision import datasets\r\n",
    "from torchvision.transforms import ToTensor\r\n",
    "\r\n",
    "\r\n",
    "import matplotlib.pyplot as plt \r\n"
   ],
   "outputs": [],
   "metadata": {}
  },
  {
   "cell_type": "markdown",
   "source": [
    "## 1.Dataset\r\n"
   ],
   "metadata": {}
  },
  {
   "cell_type": "code",
   "execution_count": 2,
   "source": [
    "training_data = datasets.MNIST(\r\n",
    "    root='data',\r\n",
    "    train=True,\r\n",
    "    download=True,\r\n",
    "    transform=ToTensor()\r\n",
    ")\r\n",
    "\r\n",
    "test_data = datasets.MNIST(\r\n",
    "      root='data',\r\n",
    "    train=False,\r\n",
    "    download=True,\r\n",
    "    transform=ToTensor()\r\n",
    ")"
   ],
   "outputs": [
    {
     "output_type": "stream",
     "name": "stderr",
     "text": [
      "C:\\Users\\duong\\AppData\\Local\\Programs\\Python\\Python38\\lib\\site-packages\\torchvision\\datasets\\mnist.py:498: UserWarning: The given NumPy array is not writeable, and PyTorch does not support non-writeable tensors. This means you can write to the underlying (supposedly non-writeable) NumPy array using the tensor. You may want to copy the array to protect its data or make it writeable before converting it to a tensor. This type of warning will be suppressed for the rest of this program. (Triggered internally at  ..\\torch\\csrc\\utils\\tensor_numpy.cpp:180.)\n",
      "  return torch.from_numpy(parsed.astype(m[2], copy=False)).view(*s)\n"
     ]
    }
   ],
   "metadata": {}
  },
  {
   "cell_type": "code",
   "execution_count": 3,
   "source": [
    "training_dataloader = DataLoader(training_data, batch_size=64)\r\n",
    "test_dataloader = DataLoader(test_data, batch_size=64)"
   ],
   "outputs": [],
   "metadata": {}
  },
  {
   "cell_type": "code",
   "execution_count": 4,
   "source": [
    "device = 'cuda' if torch.cuda.is_available() else 'cpu'\r\n",
    "\r\n",
    "print(f'We use {device}')"
   ],
   "outputs": [
    {
     "output_type": "stream",
     "name": "stdout",
     "text": [
      "We use cuda\n"
     ]
    }
   ],
   "metadata": {}
  },
  {
   "cell_type": "markdown",
   "source": [
    "## 2. Initialize Model"
   ],
   "metadata": {}
  },
  {
   "cell_type": "code",
   "execution_count": 5,
   "source": [
    "class NeuralNetwork(nn.Module):\r\n",
    "    def __init__(self):\r\n",
    "        super(NeuralNetwork, self).__init__()\r\n",
    "        self.flatten = nn.Flatten()  # to convert to 2D image\r\n",
    "        self.net = nn.Sequential(\r\n",
    "            nn.Linear(28*28, 10),\r\n",
    "            nn.LogSoftmax(dim=1)\r\n",
    "        )\r\n",
    "\r\n",
    "    def forward(self, X):\r\n",
    "        logits = self.net(self.flatten(X))\r\n",
    "        return logits\r\n",
    "\r\n",
    "\r\n",
    "model = NeuralNetwork().to(device)\r\n"
   ],
   "outputs": [],
   "metadata": {}
  },
  {
   "cell_type": "markdown",
   "source": [
    "## 3. Create training/valid function"
   ],
   "metadata": {}
  },
  {
   "cell_type": "code",
   "execution_count": 6,
   "source": [
    "def training_epoch(model, dataloader, loss_fn, optimizer):\r\n",
    "    total_loss, acc = 0,0\r\n",
    "    data_size = len(dataloader.dataset)\r\n",
    "    for (X,y) in dataloader:\r\n",
    "        (X,y) = (X.to(device), y.to(device))\r\n",
    "        out = model(X)\r\n",
    "        loss = loss_fn(out, y)\r\n",
    "        optimizer.zero_grad()\r\n",
    "        loss.backward()\r\n",
    "        optimizer.step()\r\n",
    "        _, y_pred = torch.max(out, dim=1)\r\n",
    "        total_loss += loss_fn(out, y).item()\r\n",
    "        acc += (y_pred == y).type(torch.float).sum().item()\r\n",
    "    return total_loss/(data_size), acc/(data_size)\r\n"
   ],
   "outputs": [],
   "metadata": {}
  },
  {
   "cell_type": "code",
   "execution_count": 7,
   "source": [
    "def valid_epoch(model, dataloader, loss_fn):\r\n",
    "    data_size = len(dataloader.dataset)\r\n",
    "    loss, acc = 0,0\r\n",
    "    model.eval()\r\n",
    "    for X,y in dataloader:\r\n",
    "        X,y = X.to(device), y.to(device)\r\n",
    "        out = model(X)\r\n",
    "        _, y_pred = torch.max(out, dim=1)\r\n",
    "        loss += loss_fn(out, y).item()\r\n",
    "        acc += (y_pred == y).type(torch.float).sum().item()\r\n",
    "        \r\n",
    "    return loss/(data_size), acc/(data_size)\r\n"
   ],
   "outputs": [],
   "metadata": {}
  },
  {
   "cell_type": "markdown",
   "source": [
    "## 4. Select optimizer and loss_function"
   ],
   "metadata": {}
  },
  {
   "cell_type": "code",
   "execution_count": 8,
   "source": [
    "optimizer = torch.optim.Adam(model.parameters(), lr=0.01)\r\n",
    "loss_fn = nn.CrossEntropyLoss()"
   ],
   "outputs": [],
   "metadata": {}
  },
  {
   "cell_type": "markdown",
   "source": [
    "## 5. Train and valid model"
   ],
   "metadata": {}
  },
  {
   "cell_type": "code",
   "execution_count": 9,
   "source": [
    "train_hist = []\r\n",
    "test_hist = []\r\n",
    "for t in range(10):\r\n",
    "    train_hist.append(training_epoch(model, training_dataloader, loss_fn, optimizer))\r\n",
    "    with torch.no_grad():\r\n",
    "        test_hist.append(valid_epoch(model, training_dataloader, loss_fn))"
   ],
   "outputs": [],
   "metadata": {}
  },
  {
   "cell_type": "code",
   "execution_count": 10,
   "source": [
    "train_loss = [i[0] for i in train_hist]\r\n",
    "train_acc = [i[1] for i in train_hist]\r\n",
    "test_loss = [i[0] for i in test_hist]\r\n",
    "test_acc = [i[1] for i in test_hist]\r\n"
   ],
   "outputs": [],
   "metadata": {}
  },
  {
   "cell_type": "markdown",
   "source": [
    "## 6. Visualization loss_avg and accuracy"
   ],
   "metadata": {}
  },
  {
   "cell_type": "code",
   "execution_count": 11,
   "source": [
    "\r\n",
    "plt.figure()\r\n",
    "plt.plot([x+1 for x in range(10)], train_loss)\r\n",
    "plt.plot([x+1 for x in range(10)], test_loss)\r\n",
    "plt.legend(['train_loss', 'test_loss'])\r\n",
    "plt.show()"
   ],
   "outputs": [
    {
     "output_type": "display_data",
     "data": {
      "text/plain": [
       "<Figure size 432x288 with 1 Axes>"
      ],
      "image/png": "[encoded data removed]"
     },
     "metadata": {
      "needs_background": "light"
     }
    }
   ],
   "metadata": {}
  },
  {
   "cell_type": "code",
   "execution_count": 12,
   "source": [
    "plt.figure()\r\n",
    "plt.plot([x+1 for x in range(10)], train_acc)\r\n",
    "plt.plot([x+1 for x in range(10)], test_acc)\r\n",
    "plt.legend(['train_acc', 'test_acc'])\r\n",
    "plt.show()"
   ],
   "outputs": [
    {
     "output_type": "display_data",
     "data": {
      "text/plain": [
       "<Figure size 432x288 with 1 Axes>"
      ],
      "image/png": "[encoded data removed]"
     },
     "metadata": {
      "needs_background": "light"
     }
    }
   ],
   "metadata": {}
  },
  {
   "cell_type": "markdown",
   "source": [
    "## 7. Test our model"
   ],
   "metadata": {}
  },
  {
   "cell_type": "code",
   "execution_count": 22,
   "source": [
    "k = torch.randint(0, len(training_data),())\r\n",
    "\r\n",
    "X = training_data[k][0].to(device)\r\n",
    "y = torch.tensor(training_data[k][1]).to(device)\r\n",
    "\r\n",
    "def predict(X, model):\r\n",
    "    out = model.to(device)(X)\r\n",
    "    _,y_pred = torch.max(out, 1)\r\n",
    "    return y_pred.item()\r\n",
    "\r\n",
    "def show_img(X, model):\r\n",
    "    plt.figure()\r\n",
    "    plt.imshow(X.to('cpu').view(28,28))\r\n",
    "    plt.title(predict(X, model))\r\n",
    "    plt.show()\r\n",
    "\r\n",
    "show_img(X, model)\r\n",
    "\r\n",
    "\r\n",
    "\r\n"
   ],
   "outputs": [
    {
     "output_type": "display_data",
     "data": {
      "text/plain": [
       "<Figure size 432x288 with 1 Axes>"
      ],
      "image/png": "[encoded data removed]"
     },
     "metadata": {
      "needs_background": "light"
     }
    }
   ],
   "metadata": {}
  },
  {
   "cell_type": "markdown",
   "source": [
    "## 8. Saving model"
   ],
   "metadata": {}
  },
  {
   "cell_type": "code",
   "execution_count": 15,
   "source": [
    "torch.save(model.state_dict(), 'model/model_state.pth')"
   ],
   "outputs": [],
   "metadata": {}
  },
  {
   "cell_type": "markdown",
   "source": [
    "## 9. Loading and testing"
   ],
   "metadata": {}
  },
  {
   "cell_type": "code",
   "execution_count": 18,
   "source": [
    "new_model = NeuralNetwork().to(device)\r\n",
    "new_model.load_state_dict(torch.load('model/model_state.pth'))\r\n"
   ],
   "outputs": [
    {
     "output_type": "execute_result",
     "data": {
      "text/plain": [
       "<All keys matched successfully>"
      ]
     },
     "metadata": {},
     "execution_count": 18
    }
   ],
   "metadata": {}
  },
  {
   "cell_type": "code",
   "execution_count": 19,
   "source": [
    "show_img(X, new_model)"
   ],
   "outputs": [
    {
     "output_type": "display_data",
     "data": {
      "text/plain": [
       "<Figure size 432x288 with 1 Axes>"
      ],
      "image/png": "[encoded data removed]"
     },
     "metadata": {
      "needs_background": "light"
     }
    }
   ],
   "metadata": {}
  },
  {
   "cell_type": "code",
   "execution_count": null,
   "source": [],
   "outputs": [],
   "metadata": {}
  }
 ],
 "metadata": {
  "orig_nbformat": 4,
  "language_info": {
   "name": "python",
   "version": "3.8.10",
   "mimetype": "text/x-python",
   "codemirror_mode": {
    "name": "ipython",
    "version": 3
   },
   "pygments_lexer": "ipython3",
   "nbconvert_exporter": "python",
   "file_extension": ".py"
  },
  "kernelspec": {
   "name": "python3",
   "display_name": "Python 3.8.10 64-bit"
  },
  "interpreter": {
   "hash": "b8476f40adbb31d316263111a5645b453d35d3e96db58041b0655f021c3b1406"
  }
 },
 "nbformat": 4,
 "nbformat_minor": 2
}